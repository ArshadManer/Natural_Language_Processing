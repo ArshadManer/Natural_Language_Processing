{
 "cells": [
  {
   "cell_type": "code",
   "execution_count": 1,
   "metadata": {},
   "outputs": [],
   "source": [
    "import pandas as pd"
   ]
  },
  {
   "cell_type": "code",
   "execution_count": 1,
   "metadata": {},
   "outputs": [
    {
     "name": "stderr",
     "output_type": "stream",
     "text": [
      "[nltk_data] Downloading package stopwords to\n",
      "[nltk_data]     C:\\Users\\arsha\\AppData\\Roaming\\nltk_data...\n",
      "[nltk_data]   Unzipping corpora\\stopwords.zip.\n"
     ]
    },
    {
     "name": "stdout",
     "output_type": "stream",
     "text": [
      "Plagiarism percentage between Student 1 and Student 2: 100.0%\n",
      "Plagiarism percentage between Student 1 and Student 3: 81.65%\n",
      "Plagiarism percentage between Student 2 and Student 3: 53.45%\n"
     ]
    }
   ],
   "source": [
    "import nltk\n",
    "from sklearn.feature_extraction.text import TfidfVectorizer\n",
    "from sklearn.metrics.pairwise import cosine_similarity\n",
    "\n",
    "# Make sure to download NLTK stopwords\n",
    "nltk.download('stopwords')\n",
    "\n",
    "# Sample student essays (replace with your actual data)\n",
    "essays = [\n",
    "    \"This is the first student's essay.\",\n",
    "    \"Here is the second student's essay, which is quite similar to the first one.\",\n",
    "    \"The third student's essay is different from the others.\"\n",
    "]\n",
    "\n",
    "def calculate_plagiarism(essay1, essay2):\n",
    "    # Tokenize and remove stopwords\n",
    "    stop_words = set(nltk.corpus.stopwords.words('english'))\n",
    "    \n",
    "    vectorizer = TfidfVectorizer(stop_words=stop_words)\n",
    "    essay1_tfidf = vectorizer.fit_transform([essay1])\n",
    "    essay2_tfidf = vectorizer.transform([essay2])\n",
    "    \n",
    "    # Calculate cosine similarity\n",
    "    similarity = cosine_similarity(essay1_tfidf, essay2_tfidf)[0][0]\n",
    "    \n",
    "    # Convert similarity to percentage\n",
    "    plagiarism_percentage = round(similarity * 100, 2)\n",
    "    \n",
    "    return plagiarism_percentage\n",
    "\n",
    "# Compare all pairs of essays\n",
    "for i in range(len(essays)):\n",
    "    for j in range(i + 1, len(essays)):\n",
    "        student1 = f\"Student {i + 1}\"\n",
    "        student2 = f\"Student {j + 1}\"\n",
    "        plagiarism_percentage = calculate_plagiarism(essays[i], essays[j])\n",
    "        \n",
    "        print(f\"Plagiarism percentage between {student1} and {student2}: {plagiarism_percentage}%\")\n"
   ]
  },
  {
   "cell_type": "code",
   "execution_count": null,
   "metadata": {},
   "outputs": [],
   "source": []
  }
 ],
 "metadata": {
  "kernelspec": {
   "display_name": "Python 3 (ipykernel)",
   "language": "python",
   "name": "python3"
  },
  "language_info": {
   "codemirror_mode": {
    "name": "ipython",
    "version": 3
   },
   "file_extension": ".py",
   "mimetype": "text/x-python",
   "name": "python",
   "nbconvert_exporter": "python",
   "pygments_lexer": "ipython3",
   "version": "3.9.13"
  }
 },
 "nbformat": 4,
 "nbformat_minor": 2
}
